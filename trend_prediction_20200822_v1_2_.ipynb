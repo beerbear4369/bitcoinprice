{
  "nbformat": 4,
  "nbformat_minor": 0,
  "metadata": {
    "colab": {
      "name": "trend prediction_20200822_v1.2 .ipynb",
      "provenance": [],
      "collapsed_sections": [],
      "toc_visible": true,
      "include_colab_link": true
    },
    "kernelspec": {
      "name": "python3",
      "display_name": "Python 3"
    }
  },
  "cells": [
    {
      "cell_type": "markdown",
      "metadata": {
        "id": "view-in-github",
        "colab_type": "text"
      },
      "source": [
        "<a href=\"https://colab.research.google.com/github/beerbear4369/bitcoinprice/blob/master/trend_prediction_20200822_v1_2_.ipynb\" target=\"_parent\"><img src=\"https://colab.research.google.com/assets/colab-badge.svg\" alt=\"Open In Colab\"/></a>"
      ]
    },
    {
      "cell_type": "markdown",
      "metadata": {
        "id": "CRNVzhoo1clG",
        "colab_type": "text"
      },
      "source": [
        "## **1. Mount google drive**\n",
        "---"
      ]
    },
    {
      "cell_type": "code",
      "metadata": {
        "id": "5W39GXyk1hME",
        "colab_type": "code",
        "colab": {
          "base_uri": "https://localhost:8080/",
          "height": 33
        },
        "outputId": "6fef93e6-ef98-4abc-e3dc-594d83da7867"
      },
      "source": [
        "from google.colab import drive\n",
        "drive.mount('/content/gdrive')"
      ],
      "execution_count": 1,
      "outputs": [
        {
          "output_type": "stream",
          "text": [
            "Mounted at /content/gdrive\n"
          ],
          "name": "stdout"
        }
      ]
    },
    {
      "cell_type": "markdown",
      "metadata": {
        "id": "dOQ-2xS_MYHi",
        "colab_type": "text"
      },
      "source": [
        "## **2. Import the necessary libraries**\n",
        "---"
      ]
    },
    {
      "cell_type": "code",
      "metadata": {
        "id": "yoi4gWDELtek",
        "colab_type": "code",
        "colab": {
          "base_uri": "https://localhost:8080/",
          "height": 134
        },
        "outputId": "cec72d88-66e8-4e18-a8f6-0453f0377042"
      },
      "source": [
        "!pip install xlsxwriter\n",
        "# import h5py\n",
        "import matplotlib\n",
        "import sklearn\n",
        "import numpy as np\n",
        "import pandas as pd\n",
        "import sklearn.metrics as metrics\n",
        "import matplotlib.pyplot as plt\n",
        "import tensorflow as tf\n",
        "import xlsxwriter\n",
        "\n",
        "from tensorflow.keras.callbacks import ModelCheckpoint,CSVLogger\n",
        "from tensorflow.keras.models import Model\n",
        "from tensorflow.keras.layers import Input\n",
        "from tensorflow.keras.layers import LSTM\n",
        "from tensorflow.keras.layers import Conv1D\n",
        "from tensorflow.keras.layers import Dropout\n",
        "from tensorflow.keras.layers import Dense\n",
        "from tensorflow.keras.layers import MaxPooling1D\n",
        "from tensorflow.keras.utils import plot_model\n",
        "from tensorflow.keras.models import Sequential\n",
        "from tensorflow.keras import optimizers\n",
        "from io import BytesIO\n",
        "\n",
        "print(\"Versions of key libraries\")\n",
        "print(\"---\")\n",
        "print(\"tensorflow: \", tf.__version__)\n",
        "print(\"numpy:      \", np.__version__)\n",
        "print(\"matplotlib: \", matplotlib.__version__)\n",
        "print(\"sklearn:    \", sklearn.__version__)"
      ],
      "execution_count": 186,
      "outputs": [
        {
          "output_type": "stream",
          "text": [
            "Requirement already satisfied: xlsxwriter in /usr/local/lib/python3.6/dist-packages (1.3.3)\n",
            "Versions of key libraries\n",
            "---\n",
            "tensorflow:  2.3.0\n",
            "numpy:       1.18.5\n",
            "matplotlib:  3.2.2\n",
            "sklearn:     0.22.2.post1\n"
          ],
          "name": "stdout"
        }
      ]
    },
    {
      "cell_type": "markdown",
      "metadata": {
        "id": "X3N41iixORPz",
        "colab_type": "text"
      },
      "source": [
        "## **3. Set matplotlib to have seaborn plot style**\n",
        "---"
      ]
    },
    {
      "cell_type": "code",
      "metadata": {
        "id": "OyO5OsUrOYNQ",
        "colab_type": "code",
        "colab": {
          "base_uri": "https://localhost:8080/",
          "height": 33
        },
        "outputId": "5b82313d-acc0-439e-9dc6-c0da2f8844f5"
      },
      "source": [
        "plt.style.use('seaborn')                   # if want to use the default style, set 'classic'\n",
        "plt.rcParams['ytick.right']     = True\n",
        "plt.rcParams['ytick.labelright']= True\n",
        "plt.rcParams['ytick.left']      = False\n",
        "plt.rcParams['ytick.labelleft'] = False\n",
        "plt.rcParams['figure.figsize']  = [7,7]   # Set the figure size to be 7 inch for (width,height)\n",
        "\n",
        "print(\"Matplotlib setup completes.\")"
      ],
      "execution_count": 3,
      "outputs": [
        {
          "output_type": "stream",
          "text": [
            "Matplotlib setup completes.\n"
          ],
          "name": "stdout"
        }
      ]
    },
    {
      "cell_type": "markdown",
      "metadata": {
        "id": "IpjXV5T4WAoL",
        "colab_type": "text"
      },
      "source": [
        "## **4. Create makeSteps function**\n",
        "---"
      ]
    },
    {
      "cell_type": "code",
      "metadata": {
        "id": "S_EFoTlIWHm5",
        "colab_type": "code",
        "colab": {
          "base_uri": "https://localhost:8080/",
          "height": 33
        },
        "outputId": "520e25d5-6ea7-479b-aea3-222b03d320ec"
      },
      "source": [
        "def makeSteps(dat, length, dist):\n",
        "    width           = dat.shape[1]\n",
        "    numOfSteps      = int(np.floor((width-length)/dist)+1)\n",
        "    \n",
        "                                        # Initialize the output\n",
        "    segments        = np.zeros([dat.shape[0],numOfSteps,length],\n",
        "                               dtype=dat.dtype)\n",
        "    \n",
        "    for l in range(numOfSteps):\n",
        "        segments[:,l,:]     = dat[:,(l*dist):(l*dist+length)]\n",
        "        \n",
        "    return segments\n",
        "\n",
        "print(makeSteps)"
      ],
      "execution_count": 5,
      "outputs": [
        {
          "output_type": "stream",
          "text": [
            "<function makeSteps at 0x7f595100c840>\n"
          ],
          "name": "stdout"
        }
      ]
    },
    {
      "cell_type": "markdown",
      "metadata": {
        "id": "HpYSSJuASvM0",
        "colab_type": "text"
      },
      "source": [
        "## **5. Load bitcoin price data**\n",
        "---\n",
        "* Step 1: Load the csv file and extract the values\n",
        "* Step 2: Convert the data and label into numpy arrays\n",
        "* Step 3: Inspect the shape and data type of the 'close_price' and 'label' arrays"
      ]
    },
    {
      "cell_type": "code",
      "metadata": {
        "id": "6QAC7FbmTYKv",
        "colab_type": "code",
        "colab": {
          "base_uri": "https://localhost:8080/",
          "height": 134
        },
        "outputId": "6014f761-5112-4313-f3c0-8057427e70a7"
      },
      "source": [
        "\n",
        "f = pd.read_csv('/content/gdrive/My Drive/iss/PR_grpproject/data/BTCUSDT-1d-data_all_features_labbeled.csv')\n",
        "# print(f,f.dtypes)\n",
        "X_c        = f[\"close\"]\n",
        "X_v        = f[\"volume\"]\n",
        "\n",
        "Y=f[\"Trix next 7 day(1 for up 0 for down)\"]\n",
        "# to make close price and volum as the X array                                                                             \n",
        "X_c    = np.array(X_c)\n",
        "X_v    = np.array(X_v)  \n",
        "X=np.vstack([X_c,X_v])                                                         \n",
        "Y   = np.array(Y)\n",
        "Y=Y[43:1089]\n",
        "\n",
        "print(X,X.dtype,X.shape[0])\n",
        "print(Y,Y.dtype,Y.shape[0])\n",
        "\n",
        "# to transfer the input to a segment of 44 days\n",
        "length       = 44\n",
        "dist         = 1\n",
        "XS=makeSteps(X,44,1)\n",
        "# print(XS,'The shape of XS is', XS.shape, \"and the type is\", XS.dtype) \n",
        "close=XS[0,:,:] \n",
        "volume=XS[1,:,:] \n",
        "\n",
        "print('The shape of close is', close.shape, \"and the type is\", close.dtype)   \n",
        "print('The shape of volume is', volume.shape, \"and the type is\", volume.dtype)                                                                        "
      ],
      "execution_count": 6,
      "outputs": [
        {
          "output_type": "stream",
          "text": [
            "[[ 4285.08      4108.37      4139.98     ... 11594.23     11761.41\n",
            "  11673.39    ]\n",
            " [  795.150377  1199.888264   381.309763 ... 65755.92602  41858.16104\n",
            "  13595.24545 ]] float64 2\n",
            "[0. 0. 0. ... 1. 1. 0.] float64 1046\n",
            "The shape of close is (1046, 44) and the type is float64\n",
            "The shape of volume is (1046, 44) and the type is float64\n"
          ],
          "name": "stdout"
        }
      ]
    },
    {
      "cell_type": "markdown",
      "metadata": {
        "id": "5w2jAiKZOmgP",
        "colab_type": "text"
      },
      "source": [
        "## **7. Prepare data for training and testing**\n",
        "---\n",
        "* Step 1: Split the dataset into training and testing\n",
        "* Step 2: Generate segments for each signal\n",
        "* Step 3: Consolidate the arrays\n",
        "* Step 4: Inspect the data shape and type"
      ]
    },
    {
      "cell_type": "code",
      "metadata": {
        "id": "v3Ad2V0pO1TX",
        "colab_type": "code",
        "colab": {
          "base_uri": "https://localhost:8080/",
          "height": 84
        },
        "outputId": "2d65dc03-cad4-48bb-a99a-514c2f2536c3"
      },
      "source": [
        "                                                                                # Step 1\n",
        "# trNor        = nor[0:28800].copy()\n",
        "# tsNor        = nor[28800:32000].copy()\n",
        "# trCad        = cad[0:5000].copy()\n",
        "# tsCad        = cad[5000:6120].copy()\n",
        "\n",
        "## generate segments\n",
        "length       = 21\n",
        "dist         = 1\n",
        "closeS=makeSteps(close,length,dist)                                               # Step 2\n",
        "# print('The shape of closeS is', closeS.shape, \"and the type is\",closeS.dtype)\n",
        "\n",
        "## seperate training and testing dataset\n",
        "trDat=closeS[0:867,:,:]\n",
        "tsDat=closeS[867:,:,:]\n",
        "trLbl=np.reshape(Y[0:867],(-1,1))\n",
        "tsLbl=np.reshape(Y[867:],(-1,1))\n",
        "# trNorS       = makeSteps(trNor, length, dist)\n",
        "# tsNorS       = makeSteps(tsNor, length, dist)\n",
        "# trCadS       = makeSteps(trCad, length, dist)\n",
        "# tsCadS       = makeSteps(tsCad, length, dist)\n",
        "\n",
        "#                                                                                 # Step 3\n",
        "# trDat        = np.vstack([trNorS,trCadS])\n",
        "# tsDat        = np.vstack([tsNorS,tsCadS])\n",
        "\n",
        "# trLbl        = np.vstack([np.zeros([trNorS.shape[0],1]),\n",
        "#                           np.ones([trCadS.shape[0],1])])\n",
        "# tsLbl        = np.vstack([np.zeros([tsNorS.shape[0],1]),\n",
        "#                           np.ones([tsCadS.shape[0],1])])\n",
        "\n",
        "print('The shape of trDat is', trDat.shape, \"and the type is\", trDat.dtype)\n",
        "print('The shape of trLbl is', trLbl.shape, \"and the type is\", trLbl.dtype)\n",
        "print('The shape of tsDat is', tsDat.shape, \"and the type is\", tsDat.dtype)\n",
        "print('The shape of tsLbl is', tsLbl.shape, \"and the type is\", tsLbl.dtype)"
      ],
      "execution_count": 174,
      "outputs": [
        {
          "output_type": "stream",
          "text": [
            "The shape of trDat is (867, 24, 21) and the type is float64\n",
            "The shape of trLbl is (867, 1) and the type is float64\n",
            "The shape of tsDat is (179, 24, 21) and the type is float64\n",
            "The shape of tsLbl is (179, 1) and the type is float64\n"
          ],
          "name": "stdout"
        }
      ]
    },
    {
      "cell_type": "markdown",
      "metadata": {
        "id": "DoP3WcoJW-jZ",
        "colab_type": "text"
      },
      "source": [
        "## **8. Define the NN model**\n",
        "___\n",
        "* Step 1: Set a name for the coming model (required for saving)\n",
        "* Step 2: Define the NN model (to be completed)\n",
        "* Step 3: Create models for training and testing\n",
        "* Step 4: Display the summary of the model of interest "
      ]
    },
    {
      "cell_type": "code",
      "metadata": {
        "id": "0HMOes0kXCPd",
        "colab_type": "code",
        "colab": {
          "base_uri": "https://localhost:8080/",
          "height": 334
        },
        "outputId": "eb499574-09d1-4d74-a77f-eae9e9e50abf"
      },
      "source": [
        "modelname   = 'tp_Conv2D_LSTM_v8.13'\n",
        "optmz       = optimizers.Adam(lr=0.00001)                                                         # Step 1\n",
        "lognote=modelname+' step length='+str(length)+\" dist=\"+str(dist)+\" lr=0.0001\"+\".study the impact of learning rate, make it converge \"\n",
        "print(lognote)\n",
        "                                                                                # Step 2\n",
        "def createModel():        \n",
        "    inputs= Input(shape=(trDat.shape[1],length))\n",
        "\n",
        "    y = Conv1D(32, 5, activation='relu')(inputs)\n",
        "    # y = Dropout(0.25)(y)\n",
        "    # y = Conv1D(32, 5, activation='relu')(y)\n",
        "    # y = MaxPooling1D(2)(y)\n",
        "    # y = Conv1D(48, 5, activation='relu')(y)\n",
        "    # y = Dropout(0.5)(y)\n",
        "    # y = Conv1D(48, 5, activation='relu')(y)\n",
        "    # y = MaxPooling1D(2)(y)\n",
        "    # y = Conv1D(64, 5, activation='relu')(y)\n",
        "    # y = Dropout(0.5)(y)\n",
        "    # y = Conv1D(64, 5, activation='relu')(y)\n",
        "    # y = MaxPooling1D(2)(y)\n",
        "\n",
        "  \n",
        "    # y = LSTM(32,return_sequences=True,dropout=0.25,recurrent_dropout=0.25)(y)\n",
        "    # y = LSTM(32,return_sequences=True,dropout=0.5,recurrent_dropout=0.25)(y)\n",
        "    # y = LSTM(32,return_sequences=True,dropout=0.25)(y)\n",
        "    # y = LSTM(64, dropout=0.25)(y)\n",
        "\n",
        "    y = LSTM(32,return_sequences=True)(y)\n",
        "    y = LSTM(64)(y)\n",
        "    y = Dense(1, activation='sigmoid')(y)\n",
        "    model = Model(inputs=inputs,outputs=y)\n",
        "    model.compile(loss='binary_crossentropy',\n",
        "                  optimizer=optmz,\n",
        "                  metrics=['accuracy'])\n",
        "\n",
        "    return model\n",
        "\n",
        "                                                                                # Step 3\n",
        "model       = createModel() # This is meant for training\n",
        "modelGo     = createModel() # This is used for final testing\n",
        "\n",
        "model.summary()                                                                 # Step 4"
      ],
      "execution_count": 254,
      "outputs": [
        {
          "output_type": "stream",
          "text": [
            "tp_Conv2D_LSTM_v8.13 step length=21 dist=1 lr=0.0001.study the impact of learning rate, make it converge \n",
            "Model: \"functional_117\"\n",
            "_________________________________________________________________\n",
            "Layer (type)                 Output Shape              Param #   \n",
            "=================================================================\n",
            "input_67 (InputLayer)        [(None, 24, 21)]          0         \n",
            "_________________________________________________________________\n",
            "conv1d_77 (Conv1D)           (None, 20, 32)            3392      \n",
            "_________________________________________________________________\n",
            "lstm_145 (LSTM)              (None, 20, 32)            8320      \n",
            "_________________________________________________________________\n",
            "lstm_146 (LSTM)              (None, 64)                24832     \n",
            "_________________________________________________________________\n",
            "dense_58 (Dense)             (None, 1)                 65        \n",
            "=================================================================\n",
            "Total params: 36,609\n",
            "Trainable params: 36,609\n",
            "Non-trainable params: 0\n",
            "_________________________________________________________________\n"
          ],
          "name": "stdout"
        }
      ]
    },
    {
      "cell_type": "markdown",
      "metadata": {
        "id": "DlquJEaFZxV9",
        "colab_type": "text"
      },
      "source": [
        "## **9. Create the callbacks to be applied during training**\n",
        "---\n",
        "* Step 1: Create a callback to save the model from an epoch when validation accuracy is the highest\n",
        "* Step 2: Create a callback to save the training loss, training accuracy, validation loss and validation accuracy of each epoch into a csv file\n",
        "* Step 3: Put the two callback objects into a list"
      ]
    },
    {
      "cell_type": "code",
      "metadata": {
        "id": "9-a1LSCbahKy",
        "colab_type": "code",
        "colab": {
          "base_uri": "https://localhost:8080/",
          "height": 117
        },
        "outputId": "2b7bc1d4-dc68-4903-96ac-1631b295b9a2"
      },
      "source": [
        "                                                                                # Step 1\n",
        "folderpath      = '/content/gdrive/My Drive/iss/PR_grpproject/'\n",
        "filepath        = folderpath + modelname + \".hdf5\"\n",
        "checkpoint      = ModelCheckpoint(filepath, \n",
        "                                  monitor='val_accuracy', \n",
        "                                  verbose=0, \n",
        "                                  save_best_only=True, \n",
        "                                  mode='max')\n",
        "\n",
        "csv_logger      = CSVLogger(folderpath+modelname +'.csv')                       # Step 2\n",
        "callbacks_list  = [checkpoint,csv_logger]                                       # Step 3\n",
        "\n",
        "print(\"Callbacks created:\")\n",
        "print(callbacks_list[0])\n",
        "print(callbacks_list[1])\n",
        "print('')\n",
        "print(\"Path to model:\", filepath)\n",
        "print(\"Path to log:  \", folderpath+modelname+'.csv')\n"
      ],
      "execution_count": 255,
      "outputs": [
        {
          "output_type": "stream",
          "text": [
            "Callbacks created:\n",
            "<tensorflow.python.keras.callbacks.ModelCheckpoint object at 0x7f5919008b38>\n",
            "<tensorflow.python.keras.callbacks.CSVLogger object at 0x7f5919008dd8>\n",
            "\n",
            "Path to model: /content/gdrive/My Drive/iss/PR_grpproject/tp_Conv2D_LSTM_v8.13.hdf5\n",
            "Path to log:   /content/gdrive/My Drive/iss/PR_grpproject/tp_Conv2D_LSTM_v8.13.csv\n"
          ],
          "name": "stdout"
        }
      ]
    },
    {
      "cell_type": "markdown",
      "metadata": {
        "id": "1mKgjQsmfOBz",
        "colab_type": "text"
      },
      "source": [
        "## **10. Train the deep learning model**\n",
        "___"
      ]
    },
    {
      "cell_type": "code",
      "metadata": {
        "id": "23lUNwpGfV0A",
        "colab_type": "code",
        "colab": {
          "base_uri": "https://localhost:8080/",
          "height": 1000
        },
        "outputId": "c839b7da-d1ef-48c3-8ed8-98d34b0b97cd"
      },
      "source": [
        "model.fit(trDat, \n",
        "          trLbl, \n",
        "          validation_data=(tsDat, tsLbl), \n",
        "          epochs=100, \n",
        "          batch_size=64,\n",
        "          shuffle=True,\n",
        "          callbacks=callbacks_list)"
      ],
      "execution_count": 256,
      "outputs": [
        {
          "output_type": "stream",
          "text": [
            "Epoch 1/100\n",
            "14/14 [==============================] - 1s 85ms/step - loss: 0.6962 - accuracy: 0.5063 - val_loss: 0.7066 - val_accuracy: 0.4078\n",
            "Epoch 2/100\n",
            "14/14 [==============================] - 0s 29ms/step - loss: 0.6932 - accuracy: 0.5329 - val_loss: 0.7064 - val_accuracy: 0.4078\n",
            "Epoch 3/100\n",
            "14/14 [==============================] - 0s 28ms/step - loss: 0.6913 - accuracy: 0.5363 - val_loss: 0.7062 - val_accuracy: 0.4078\n",
            "Epoch 4/100\n",
            "14/14 [==============================] - 0s 30ms/step - loss: 0.6895 - accuracy: 0.5467 - val_loss: 0.7068 - val_accuracy: 0.4078\n",
            "Epoch 5/100\n",
            "14/14 [==============================] - 0s 28ms/step - loss: 0.6870 - accuracy: 0.5606 - val_loss: 0.7055 - val_accuracy: 0.4078\n",
            "Epoch 6/100\n",
            "14/14 [==============================] - 0s 27ms/step - loss: 0.6841 - accuracy: 0.5709 - val_loss: 0.7046 - val_accuracy: 0.4078\n",
            "Epoch 7/100\n",
            "14/14 [==============================] - 0s 29ms/step - loss: 0.6820 - accuracy: 0.5744 - val_loss: 0.7045 - val_accuracy: 0.4078\n",
            "Epoch 8/100\n",
            "14/14 [==============================] - 0s 28ms/step - loss: 0.6807 - accuracy: 0.5767 - val_loss: 0.7041 - val_accuracy: 0.4078\n",
            "Epoch 9/100\n",
            "14/14 [==============================] - 0s 28ms/step - loss: 0.6786 - accuracy: 0.5859 - val_loss: 0.7037 - val_accuracy: 0.4078\n",
            "Epoch 10/100\n",
            "14/14 [==============================] - 0s 28ms/step - loss: 0.6772 - accuracy: 0.5894 - val_loss: 0.7026 - val_accuracy: 0.4078\n",
            "Epoch 11/100\n",
            "14/14 [==============================] - 0s 28ms/step - loss: 0.6749 - accuracy: 0.5917 - val_loss: 0.7026 - val_accuracy: 0.4078\n",
            "Epoch 12/100\n",
            "14/14 [==============================] - 0s 29ms/step - loss: 0.6711 - accuracy: 0.5940 - val_loss: 0.6980 - val_accuracy: 0.4078\n",
            "Epoch 13/100\n",
            "14/14 [==============================] - 0s 29ms/step - loss: 0.6673 - accuracy: 0.5940 - val_loss: 0.6952 - val_accuracy: 0.4078\n",
            "Epoch 14/100\n",
            "14/14 [==============================] - 0s 29ms/step - loss: 0.6640 - accuracy: 0.5952 - val_loss: 0.6920 - val_accuracy: 0.4078\n",
            "Epoch 15/100\n",
            "14/14 [==============================] - 0s 29ms/step - loss: 0.6598 - accuracy: 0.5963 - val_loss: 0.6895 - val_accuracy: 0.4078\n",
            "Epoch 16/100\n",
            "14/14 [==============================] - 0s 29ms/step - loss: 0.6550 - accuracy: 0.5963 - val_loss: 0.6926 - val_accuracy: 0.4078\n",
            "Epoch 17/100\n",
            "14/14 [==============================] - 0s 30ms/step - loss: 0.6511 - accuracy: 0.5963 - val_loss: 0.6922 - val_accuracy: 0.4078\n",
            "Epoch 18/100\n",
            "14/14 [==============================] - 0s 29ms/step - loss: 0.6491 - accuracy: 0.5975 - val_loss: 0.6902 - val_accuracy: 0.4078\n",
            "Epoch 19/100\n",
            "14/14 [==============================] - 0s 28ms/step - loss: 0.6463 - accuracy: 0.5975 - val_loss: 0.6911 - val_accuracy: 0.4078\n",
            "Epoch 20/100\n",
            "14/14 [==============================] - 0s 28ms/step - loss: 0.6443 - accuracy: 0.5986 - val_loss: 0.6881 - val_accuracy: 0.4078\n",
            "Epoch 21/100\n",
            "14/14 [==============================] - 0s 29ms/step - loss: 0.6418 - accuracy: 0.6021 - val_loss: 0.6865 - val_accuracy: 0.4078\n",
            "Epoch 22/100\n",
            "14/14 [==============================] - 0s 27ms/step - loss: 0.6396 - accuracy: 0.6021 - val_loss: 0.6847 - val_accuracy: 0.4078\n",
            "Epoch 23/100\n",
            "14/14 [==============================] - 0s 28ms/step - loss: 0.6374 - accuracy: 0.6055 - val_loss: 0.6841 - val_accuracy: 0.4078\n",
            "Epoch 24/100\n",
            "14/14 [==============================] - 0s 28ms/step - loss: 0.6353 - accuracy: 0.6055 - val_loss: 0.6829 - val_accuracy: 0.4078\n",
            "Epoch 25/100\n",
            "14/14 [==============================] - 0s 28ms/step - loss: 0.6332 - accuracy: 0.6113 - val_loss: 0.6816 - val_accuracy: 0.4078\n",
            "Epoch 26/100\n",
            "14/14 [==============================] - 0s 30ms/step - loss: 0.6310 - accuracy: 0.6240 - val_loss: 0.6829 - val_accuracy: 0.4078\n",
            "Epoch 27/100\n",
            "14/14 [==============================] - 1s 56ms/step - loss: 0.6300 - accuracy: 0.6332 - val_loss: 0.6770 - val_accuracy: 0.4246\n",
            "Epoch 28/100\n",
            "14/14 [==============================] - 0s 30ms/step - loss: 0.6279 - accuracy: 0.6448 - val_loss: 0.6775 - val_accuracy: 0.4358\n",
            "Epoch 29/100\n",
            "14/14 [==============================] - 0s 32ms/step - loss: 0.6255 - accuracy: 0.6540 - val_loss: 0.6774 - val_accuracy: 0.4413\n",
            "Epoch 30/100\n",
            "14/14 [==============================] - 0s 31ms/step - loss: 0.6237 - accuracy: 0.6747 - val_loss: 0.6725 - val_accuracy: 0.4637\n",
            "Epoch 31/100\n",
            "14/14 [==============================] - 0s 31ms/step - loss: 0.6216 - accuracy: 0.6932 - val_loss: 0.6714 - val_accuracy: 0.4972\n",
            "Epoch 32/100\n",
            "14/14 [==============================] - 0s 30ms/step - loss: 0.6193 - accuracy: 0.6932 - val_loss: 0.6594 - val_accuracy: 0.5587\n",
            "Epoch 33/100\n",
            "14/14 [==============================] - 0s 32ms/step - loss: 0.6131 - accuracy: 0.7659 - val_loss: 0.6525 - val_accuracy: 0.5866\n",
            "Epoch 34/100\n",
            "14/14 [==============================] - 0s 29ms/step - loss: 0.6094 - accuracy: 0.7659 - val_loss: 0.6534 - val_accuracy: 0.5587\n",
            "Epoch 35/100\n",
            "14/14 [==============================] - 0s 29ms/step - loss: 0.6064 - accuracy: 0.7647 - val_loss: 0.6528 - val_accuracy: 0.5642\n",
            "Epoch 36/100\n",
            "14/14 [==============================] - 0s 29ms/step - loss: 0.5990 - accuracy: 0.7463 - val_loss: 0.6523 - val_accuracy: 0.5475\n",
            "Epoch 37/100\n",
            "14/14 [==============================] - 0s 29ms/step - loss: 0.5926 - accuracy: 0.7555 - val_loss: 0.6438 - val_accuracy: 0.5754\n",
            "Epoch 38/100\n",
            "14/14 [==============================] - 0s 29ms/step - loss: 0.5889 - accuracy: 0.7543 - val_loss: 0.6437 - val_accuracy: 0.5866\n",
            "Epoch 39/100\n",
            "14/14 [==============================] - 0s 32ms/step - loss: 0.5851 - accuracy: 0.7439 - val_loss: 0.6240 - val_accuracy: 0.6592\n",
            "Epoch 40/100\n",
            "14/14 [==============================] - 0s 29ms/step - loss: 0.5800 - accuracy: 0.7474 - val_loss: 0.6207 - val_accuracy: 0.6536\n",
            "Epoch 41/100\n",
            "14/14 [==============================] - 0s 32ms/step - loss: 0.5782 - accuracy: 0.7393 - val_loss: 0.6112 - val_accuracy: 0.6872\n",
            "Epoch 42/100\n",
            "14/14 [==============================] - 0s 29ms/step - loss: 0.5747 - accuracy: 0.7428 - val_loss: 0.6083 - val_accuracy: 0.6872\n",
            "Epoch 43/100\n",
            "14/14 [==============================] - 0s 29ms/step - loss: 0.5715 - accuracy: 0.7393 - val_loss: 0.6150 - val_accuracy: 0.6480\n",
            "Epoch 44/100\n",
            "14/14 [==============================] - 0s 29ms/step - loss: 0.5684 - accuracy: 0.7416 - val_loss: 0.6019 - val_accuracy: 0.6872\n",
            "Epoch 45/100\n",
            "14/14 [==============================] - 0s 33ms/step - loss: 0.5646 - accuracy: 0.7451 - val_loss: 0.5996 - val_accuracy: 0.6927\n",
            "Epoch 46/100\n",
            "14/14 [==============================] - 0s 32ms/step - loss: 0.5608 - accuracy: 0.7463 - val_loss: 0.5845 - val_accuracy: 0.7486\n",
            "Epoch 47/100\n",
            "14/14 [==============================] - 0s 28ms/step - loss: 0.5579 - accuracy: 0.7439 - val_loss: 0.5926 - val_accuracy: 0.6983\n",
            "Epoch 48/100\n",
            "14/14 [==============================] - 0s 29ms/step - loss: 0.5554 - accuracy: 0.7474 - val_loss: 0.5810 - val_accuracy: 0.7430\n",
            "Epoch 49/100\n",
            "14/14 [==============================] - 0s 28ms/step - loss: 0.5539 - accuracy: 0.7439 - val_loss: 0.5948 - val_accuracy: 0.6927\n",
            "Epoch 50/100\n",
            "14/14 [==============================] - 0s 28ms/step - loss: 0.5506 - accuracy: 0.7370 - val_loss: 0.5741 - val_accuracy: 0.7430\n",
            "Epoch 51/100\n",
            "14/14 [==============================] - 0s 29ms/step - loss: 0.5471 - accuracy: 0.7428 - val_loss: 0.5750 - val_accuracy: 0.7430\n",
            "Epoch 52/100\n",
            "14/14 [==============================] - 0s 28ms/step - loss: 0.5441 - accuracy: 0.7428 - val_loss: 0.5727 - val_accuracy: 0.7430\n",
            "Epoch 53/100\n",
            "14/14 [==============================] - 0s 29ms/step - loss: 0.5407 - accuracy: 0.7486 - val_loss: 0.5798 - val_accuracy: 0.6983\n",
            "Epoch 54/100\n",
            "14/14 [==============================] - 0s 29ms/step - loss: 0.5388 - accuracy: 0.7439 - val_loss: 0.5734 - val_accuracy: 0.7430\n",
            "Epoch 55/100\n",
            "14/14 [==============================] - 0s 28ms/step - loss: 0.5362 - accuracy: 0.7416 - val_loss: 0.5626 - val_accuracy: 0.7430\n",
            "Epoch 56/100\n",
            "14/14 [==============================] - 0s 28ms/step - loss: 0.5352 - accuracy: 0.7405 - val_loss: 0.5872 - val_accuracy: 0.6816\n",
            "Epoch 57/100\n",
            "14/14 [==============================] - 0s 28ms/step - loss: 0.5335 - accuracy: 0.7370 - val_loss: 0.5780 - val_accuracy: 0.6872\n",
            "Epoch 58/100\n",
            "14/14 [==============================] - 0s 28ms/step - loss: 0.5313 - accuracy: 0.7439 - val_loss: 0.5560 - val_accuracy: 0.7430\n",
            "Epoch 59/100\n",
            "14/14 [==============================] - 0s 29ms/step - loss: 0.5304 - accuracy: 0.7439 - val_loss: 0.5980 - val_accuracy: 0.6480\n",
            "Epoch 60/100\n",
            "14/14 [==============================] - 0s 28ms/step - loss: 0.5277 - accuracy: 0.7336 - val_loss: 0.5787 - val_accuracy: 0.6536\n",
            "Epoch 61/100\n",
            "14/14 [==============================] - 0s 29ms/step - loss: 0.5241 - accuracy: 0.7428 - val_loss: 0.5767 - val_accuracy: 0.6536\n",
            "Epoch 62/100\n",
            "14/14 [==============================] - 0s 29ms/step - loss: 0.5206 - accuracy: 0.7416 - val_loss: 0.5844 - val_accuracy: 0.6480\n",
            "Epoch 63/100\n",
            "14/14 [==============================] - 0s 31ms/step - loss: 0.5183 - accuracy: 0.7416 - val_loss: 0.5742 - val_accuracy: 0.6480\n",
            "Epoch 64/100\n",
            "14/14 [==============================] - 0s 29ms/step - loss: 0.5172 - accuracy: 0.7370 - val_loss: 0.5894 - val_accuracy: 0.6201\n",
            "Epoch 65/100\n",
            "14/14 [==============================] - 0s 29ms/step - loss: 0.5173 - accuracy: 0.7266 - val_loss: 0.6001 - val_accuracy: 0.5978\n",
            "Epoch 66/100\n",
            "14/14 [==============================] - 0s 29ms/step - loss: 0.5151 - accuracy: 0.7382 - val_loss: 0.5861 - val_accuracy: 0.6034\n",
            "Epoch 67/100\n",
            "14/14 [==============================] - 0s 30ms/step - loss: 0.5132 - accuracy: 0.7428 - val_loss: 0.5872 - val_accuracy: 0.6089\n",
            "Epoch 68/100\n",
            "14/14 [==============================] - 0s 29ms/step - loss: 0.5084 - accuracy: 0.7532 - val_loss: 0.5466 - val_accuracy: 0.6872\n",
            "Epoch 69/100\n",
            "14/14 [==============================] - 0s 29ms/step - loss: 0.5059 - accuracy: 0.7520 - val_loss: 0.5433 - val_accuracy: 0.6927\n",
            "Epoch 70/100\n",
            "14/14 [==============================] - 0s 29ms/step - loss: 0.5040 - accuracy: 0.7463 - val_loss: 0.5498 - val_accuracy: 0.6872\n",
            "Epoch 71/100\n",
            "14/14 [==============================] - 0s 29ms/step - loss: 0.5020 - accuracy: 0.7486 - val_loss: 0.5661 - val_accuracy: 0.6872\n",
            "Epoch 72/100\n",
            "14/14 [==============================] - 0s 29ms/step - loss: 0.5009 - accuracy: 0.7463 - val_loss: 0.5397 - val_accuracy: 0.6927\n",
            "Epoch 73/100\n",
            "14/14 [==============================] - 0s 28ms/step - loss: 0.4972 - accuracy: 0.7589 - val_loss: 0.5335 - val_accuracy: 0.7039\n",
            "Epoch 74/100\n",
            "14/14 [==============================] - 0s 28ms/step - loss: 0.4947 - accuracy: 0.7636 - val_loss: 0.5089 - val_accuracy: 0.7374\n",
            "Epoch 75/100\n",
            "14/14 [==============================] - 1s 61ms/step - loss: 0.4888 - accuracy: 0.7636 - val_loss: 0.4709 - val_accuracy: 0.8156\n",
            "Epoch 76/100\n",
            "14/14 [==============================] - 0s 29ms/step - loss: 0.4856 - accuracy: 0.7693 - val_loss: 0.5143 - val_accuracy: 0.7374\n",
            "Epoch 77/100\n",
            "14/14 [==============================] - 0s 29ms/step - loss: 0.4832 - accuracy: 0.7659 - val_loss: 0.4919 - val_accuracy: 0.7765\n",
            "Epoch 78/100\n",
            "14/14 [==============================] - 0s 28ms/step - loss: 0.4814 - accuracy: 0.7647 - val_loss: 0.4978 - val_accuracy: 0.7709\n",
            "Epoch 79/100\n",
            "14/14 [==============================] - 0s 28ms/step - loss: 0.4791 - accuracy: 0.7670 - val_loss: 0.5015 - val_accuracy: 0.7709\n",
            "Epoch 80/100\n",
            "14/14 [==============================] - 0s 28ms/step - loss: 0.4767 - accuracy: 0.7670 - val_loss: 0.4759 - val_accuracy: 0.8156\n",
            "Epoch 81/100\n",
            "14/14 [==============================] - 0s 29ms/step - loss: 0.4721 - accuracy: 0.7693 - val_loss: 0.4909 - val_accuracy: 0.7821\n",
            "Epoch 82/100\n",
            "14/14 [==============================] - 0s 31ms/step - loss: 0.4725 - accuracy: 0.7682 - val_loss: 0.4608 - val_accuracy: 0.8324\n",
            "Epoch 83/100\n",
            "14/14 [==============================] - 0s 28ms/step - loss: 0.4688 - accuracy: 0.7728 - val_loss: 0.4606 - val_accuracy: 0.8324\n",
            "Epoch 84/100\n",
            "14/14 [==============================] - 0s 28ms/step - loss: 0.4683 - accuracy: 0.7693 - val_loss: 0.4579 - val_accuracy: 0.8156\n",
            "Epoch 85/100\n",
            "14/14 [==============================] - 0s 28ms/step - loss: 0.4656 - accuracy: 0.7728 - val_loss: 0.4605 - val_accuracy: 0.8156\n",
            "Epoch 86/100\n",
            "14/14 [==============================] - 0s 30ms/step - loss: 0.4636 - accuracy: 0.7728 - val_loss: 0.4583 - val_accuracy: 0.8156\n",
            "Epoch 87/100\n",
            "14/14 [==============================] - 0s 29ms/step - loss: 0.4632 - accuracy: 0.7739 - val_loss: 0.4481 - val_accuracy: 0.8212\n",
            "Epoch 88/100\n",
            "14/14 [==============================] - 0s 29ms/step - loss: 0.4615 - accuracy: 0.7739 - val_loss: 0.4418 - val_accuracy: 0.8324\n",
            "Epoch 89/100\n",
            "14/14 [==============================] - 0s 28ms/step - loss: 0.4597 - accuracy: 0.7728 - val_loss: 0.4393 - val_accuracy: 0.8324\n",
            "Epoch 90/100\n",
            "14/14 [==============================] - 0s 28ms/step - loss: 0.4609 - accuracy: 0.7670 - val_loss: 0.4916 - val_accuracy: 0.7486\n",
            "Epoch 91/100\n",
            "14/14 [==============================] - 0s 28ms/step - loss: 0.4621 - accuracy: 0.7705 - val_loss: 0.4826 - val_accuracy: 0.7486\n",
            "Epoch 92/100\n",
            "14/14 [==============================] - 0s 28ms/step - loss: 0.4600 - accuracy: 0.7682 - val_loss: 0.4874 - val_accuracy: 0.7654\n",
            "Epoch 93/100\n",
            "14/14 [==============================] - 0s 30ms/step - loss: 0.4586 - accuracy: 0.7705 - val_loss: 0.4359 - val_accuracy: 0.8212\n",
            "Epoch 94/100\n",
            "14/14 [==============================] - 0s 28ms/step - loss: 0.4572 - accuracy: 0.7739 - val_loss: 0.4964 - val_accuracy: 0.7486\n",
            "Epoch 95/100\n",
            "14/14 [==============================] - 0s 29ms/step - loss: 0.4551 - accuracy: 0.7728 - val_loss: 0.4408 - val_accuracy: 0.8268\n",
            "Epoch 96/100\n",
            "14/14 [==============================] - 0s 29ms/step - loss: 0.4514 - accuracy: 0.7716 - val_loss: 0.4528 - val_accuracy: 0.8212\n",
            "Epoch 97/100\n",
            "14/14 [==============================] - 0s 28ms/step - loss: 0.4493 - accuracy: 0.7774 - val_loss: 0.4532 - val_accuracy: 0.8045\n",
            "Epoch 98/100\n",
            "14/14 [==============================] - 0s 29ms/step - loss: 0.4483 - accuracy: 0.7762 - val_loss: 0.4606 - val_accuracy: 0.8212\n",
            "Epoch 99/100\n",
            "14/14 [==============================] - 0s 28ms/step - loss: 0.4476 - accuracy: 0.7728 - val_loss: 0.4518 - val_accuracy: 0.8101\n",
            "Epoch 100/100\n",
            "14/14 [==============================] - 0s 28ms/step - loss: 0.4477 - accuracy: 0.7705 - val_loss: 0.4534 - val_accuracy: 0.7989\n"
          ],
          "name": "stdout"
        },
        {
          "output_type": "execute_result",
          "data": {
            "text/plain": [
              "<tensorflow.python.keras.callbacks.History at 0x7f5918ce4668>"
            ]
          },
          "metadata": {
            "tags": []
          },
          "execution_count": 256
        }
      ]
    },
    {
      "cell_type": "markdown",
      "metadata": {
        "id": "TevfJTd-s0nk",
        "colab_type": "text"
      },
      "source": [
        "## **11. Validate the deep learning model**\n",
        "---\n",
        "* Step 1: Load the trained weights and compile the model\n",
        "* Step 2: Make prediction\n"
      ]
    },
    {
      "cell_type": "code",
      "metadata": {
        "id": "2sVtWmcVtiV5",
        "colab_type": "code",
        "colab": {
          "base_uri": "https://localhost:8080/",
          "height": 50
        },
        "outputId": "efc216f6-e79d-4384-e917-22ec3799bc85"
      },
      "source": [
        "                                                                                # Step 1\n",
        "modelGo.load_weights(filepath)\n",
        "print(\"Model weights loaded from:\", filepath)\n",
        "\n",
        "modelGo.compile(loss='binary_crossentropy', \n",
        "                optimizer='adam', \n",
        "                metrics=['accuracy'])\n",
        "\n",
        "predicts    = modelGo.predict(tsDat)                                           # Step 2\n",
        "print(\"Prediction completes.\")"
      ],
      "execution_count": 257,
      "outputs": [
        {
          "output_type": "stream",
          "text": [
            "Model weights loaded from: /content/gdrive/My Drive/iss/PR_grpproject/tp_Conv2D_LSTM_v8.13.hdf5\n",
            "Prediction completes.\n"
          ],
          "name": "stdout"
        }
      ]
    },
    {
      "cell_type": "markdown",
      "metadata": {
        "id": "0aOCUljp5qq4",
        "colab_type": "text"
      },
      "source": [
        "## **12. Report classification metrics**\n",
        "---\n",
        "* Step 1: Setup the label\n",
        "* Step 2: Calculate the accuracy score\n",
        "* Step 3: Generate classification report"
      ]
    },
    {
      "cell_type": "code",
      "metadata": {
        "id": "2tI4hBmk5uRh",
        "colab_type": "code",
        "colab": {
          "base_uri": "https://localhost:8080/",
          "height": 184
        },
        "outputId": "3a039f8e-85b9-4c5e-abc1-5fdb40d3134e"
      },
      "source": [
        "                                                                                # Step 1\n",
        "labelname   = ['uptrend',          # The label for reporting metrics\n",
        "               'downtrend']\n",
        "                                                                                \n",
        "testScores  = metrics.accuracy_score(tsLbl,predicts.round())                    # Step 2\n",
        "              \n",
        "                                                                                # Step 3\n",
        "print(\"Best accuracy (on testing dataset): %.2f%%\" % (testScores*100))\n",
        "print(metrics.classification_report(tsLbl,\n",
        "                                    predicts.round(),\n",
        "                                    target_names=labelname,\n",
        "                                    digits=4))\n",
        "\n"
      ],
      "execution_count": 258,
      "outputs": [
        {
          "output_type": "stream",
          "text": [
            "Best accuracy (on testing dataset): 83.24%\n",
            "              precision    recall  f1-score   support\n",
            "\n",
            "     uptrend     0.7529    0.8767    0.8101        73\n",
            "   downtrend     0.9043    0.8019    0.8500       106\n",
            "\n",
            "    accuracy                         0.8324       179\n",
            "   macro avg     0.8286    0.8393    0.8301       179\n",
            "weighted avg     0.8425    0.8324    0.8337       179\n",
            "\n"
          ],
          "name": "stdout"
        }
      ]
    },
    {
      "cell_type": "markdown",
      "metadata": {
        "id": "gEK_4UXN6IVa",
        "colab_type": "text"
      },
      "source": [
        "## **13. Print confusion matrix**\n",
        "---"
      ]
    },
    {
      "cell_type": "code",
      "metadata": {
        "id": "UCBJCYp26L1t",
        "colab_type": "code",
        "colab": {
          "base_uri": "https://localhost:8080/",
          "height": 50
        },
        "outputId": "ddf7e20e-c20c-48b1-a555-ae4206705641"
      },
      "source": [
        "confusion   = metrics.confusion_matrix(tsLbl,predicts.round())    \n",
        "print(confusion)"
      ],
      "execution_count": 259,
      "outputs": [
        {
          "output_type": "stream",
          "text": [
            "[[64  9]\n",
            " [21 85]]\n"
          ],
          "name": "stdout"
        }
      ]
    },
    {
      "cell_type": "markdown",
      "metadata": {
        "id": "2QMIDPD46UGT",
        "colab_type": "text"
      },
      "source": [
        "## **14. Plot curves on validation loss and accuracy**\n",
        "---"
      ]
    },
    {
      "cell_type": "code",
      "metadata": {
        "id": "qr2ZbvUi6YHf",
        "colab_type": "code",
        "colab": {
          "base_uri": "https://localhost:8080/",
          "height": 677
        },
        "outputId": "f68722e8-fe83-46dd-9518-57b1ed31795c"
      },
      "source": [
        "records     = pd.read_csv(folderpath+modelname +'.csv')\n",
        "print(records)\n",
        "plt.figure()\n",
        "plt.subplot(211)\n",
        "plt.plot(records['val_loss'], label=\"validation\")\n",
        "plt.plot(records['loss'],label=\"training\")\n",
        "plt.yticks([0.00,0.50,1.00,1.50])\n",
        "plt.title('Loss value',fontsize=12)\n",
        "\n",
        "ax          = plt.gca()\n",
        "ax.set_xticklabels([])\n",
        "\n",
        "plt.subplot(212)\n",
        "plt.plot(records['val_accuracy'],label=\"validation\")\n",
        "plt.plot(records['accuracy'],label=\"training\")\n",
        "plt.yticks([0.5,0.6,0.7,0.8])\n",
        "plt.title('Accuracy',fontsize=12)\n",
        "ax.legend()\n",
        "\n",
        "plt.savefig(folderpath+modelname+'_loss and accuracy.png')\n",
        "plt.show()\n"
      ],
      "execution_count": 260,
      "outputs": [
        {
          "output_type": "stream",
          "text": [
            "    epoch  accuracy      loss  val_accuracy  val_loss\n",
            "0       0  0.506344  0.696244      0.407821  0.706587\n",
            "1       1  0.532872  0.693239      0.407821  0.706401\n",
            "2       2  0.536332  0.691330      0.407821  0.706246\n",
            "3       3  0.546713  0.689500      0.407821  0.706760\n",
            "4       4  0.560554  0.686997      0.407821  0.705534\n",
            "..    ...       ...       ...           ...       ...\n",
            "95     95  0.771626  0.451411      0.821229  0.452774\n",
            "96     96  0.777393  0.449290      0.804469  0.453220\n",
            "97     97  0.776240  0.448310      0.821229  0.460590\n",
            "98     98  0.772780  0.447633      0.810056  0.451822\n",
            "99     99  0.770473  0.447697      0.798883  0.453406\n",
            "\n",
            "[100 rows x 5 columns]\n"
          ],
          "name": "stdout"
        },
        {
          "output_type": "display_data",
          "data": {
            "image/png": "[encoded data removed]",
            "text/plain": [
              "<Figure size 504x504 with 2 Axes>"
            ]
          },
          "metadata": {
            "tags": []
          }
        }
      ]
    },
    {
      "cell_type": "markdown",
      "metadata": {
        "id": "PWoTz-bLug3X",
        "colab_type": "text"
      },
      "source": [
        "## **15. Save the model plot**\n",
        "---"
      ]
    },
    {
      "cell_type": "code",
      "metadata": {
        "id": "Tz1YfuV1ujcE",
        "colab_type": "code",
        "colab": {
          "base_uri": "https://localhost:8080/",
          "height": 33
        },
        "outputId": "ed5625f4-aabe-49ae-e1fd-0c5c2a382e18"
      },
      "source": [
        "plotpath  = folderpath+modelname+'_plot.png'\n",
        "plot_model(model, \n",
        "           to_file=plotpath, \n",
        "           show_shapes=True, \n",
        "           show_layer_names=False,\n",
        "           rankdir='TB')\n",
        "\n",
        "print(\"Path to plot:\", plotpath)"
      ],
      "execution_count": 261,
      "outputs": [
        {
          "output_type": "stream",
          "text": [
            "Path to plot: /content/gdrive/My Drive/iss/PR_grpproject/tp_Conv2D_LSTM_v8.13_plot.png\n"
          ],
          "name": "stdout"
        }
      ]
    },
    {
      "cell_type": "markdown",
      "metadata": {
        "id": "TRqYmgxS9uvQ",
        "colab_type": "text"
      },
      "source": [
        "## **16. Auto save model performance to a excel**"
      ]
    },
    {
      "cell_type": "code",
      "metadata": {
        "id": "KDyl6RzA-DMc",
        "colab_type": "code",
        "colab": {}
      },
      "source": [
        "# 创建一个新Excel文件并添加一个工作表。\n",
        "workbook = xlsxwriter.Workbook((folderpath+'log/'+modelname+'training_log.xlsx'))\n",
        "worksheet = workbook.add_worksheet()\n",
        "worksheet.name=modelname\n",
        "# 加宽第一列使文本更清晰。\n",
        "worksheet.set_column('A:A', 30)\n",
        " \n",
        "# 插入一张图片。\n",
        "worksheet.write('B1', lognote)\n",
        "worksheet.insert_image('B2', (folderpath+modelname+'_plot.png'))\n",
        "worksheet.insert_image('H2', (folderpath+modelname+'_loss and accuracy.png'))\n",
        "worksheet.write(\"S2\",metrics.classification_report(tsLbl,\n",
        "                                    predicts.round(),\n",
        "                                    target_names=labelname,\n",
        "                                    digits=4))\n",
        "# # 插入一张位偏移图片。\n",
        "# worksheet.write('A12', '插入一张位偏移图片：')\n",
        "# worksheet.insert_image('B12', 'python.png', {'x_offset': 15, 'y_offset': 10})\n",
        " \n",
        "# # 插入一张缩放了的图片。\n",
        "# worksheet.write('A23', '插入一张缩放了的图片：')\n",
        "# worksheet.insert_image('B23', 'python.png', {'x_scale': 0.5, 'y_scale': 0.5})\n",
        "workbook.close()"
      ],
      "execution_count": 262,
      "outputs": []
    }
  ]
}